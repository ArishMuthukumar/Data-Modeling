{
 "cells": [
  {
   "cell_type": "code",
   "execution_count": 20,
   "id": "a82a8e2a-7b0e-4d9b-bc12-8e9a41e5743f",
   "metadata": {},
   "outputs": [],
   "source": [
    "#Import package"
   ]
  },
  {
   "cell_type": "code",
   "execution_count": 21,
   "id": "58c4ae1f-e410-425b-ab04-6bbf81707936",
   "metadata": {},
   "outputs": [],
   "source": [
    "import numpy as np\n",
    "import time\n",
    "import os"
   ]
  },
  {
   "cell_type": "code",
   "execution_count": 22,
   "id": "dc03fdd0-bb18-4830-8916-f9fc0569c33b",
   "metadata": {},
   "outputs": [],
   "source": [
    "#Check for CUDA"
   ]
  },
  {
   "cell_type": "code",
   "execution_count": 23,
   "id": "7bde407b-5115-4ba6-bf6b-6ba242997f6d",
   "metadata": {},
   "outputs": [
    {
     "name": "stdout",
     "output_type": "stream",
     "text": [
      "CUDA is available. Using GPU for computation.\n"
     ]
    }
   ],
   "source": [
    "try:\n",
    "    import cupy as cp\n",
    "    cuda_available = True\n",
    "    print(\"CUDA is available. Using GPU for computation.\")\n",
    "except (ImportError, Exception) as e:\n",
    "    cuda_available = False\n",
    "    print(f\"CUDA is not available: {str(e)}\")\n",
    "    print(\"Falling back to CPU-only computation.\")"
   ]
  },
  {
   "cell_type": "code",
   "execution_count": 4,
   "id": "bf928004-60a7-4f8c-afc1-46650fa66a56",
   "metadata": {},
   "outputs": [],
   "source": [
    "#Data Points"
   ]
  },
  {
   "cell_type": "code",
   "execution_count": 5,
   "id": "39d37fc2-ccdc-44ef-931a-85910c3d5b3a",
   "metadata": {},
   "outputs": [],
   "source": [
    "N = 1000   # Number of points (10,000)\n",
    "B = 100    # Block size (adjust based on memory)\n",
    "np.random.seed(42)  # For reproducibility"
   ]
  },
  {
   "cell_type": "code",
   "execution_count": 6,
   "id": "e9964db0-ef22-4803-ab0a-85af9ba9ae04",
   "metadata": {},
   "outputs": [],
   "source": [
    "#Generate randon ponits"
   ]
  },
  {
   "cell_type": "code",
   "execution_count": 7,
   "id": "99cf6171-8a75-4c61-8f58-f39b6fad16be",
   "metadata": {},
   "outputs": [
    {
     "name": "stdout",
     "output_type": "stream",
     "text": [
      "Generated 1000 random 3D points\n"
     ]
    }
   ],
   "source": [
    "points_cpu = np.random.uniform(0, 100, (N, 3))\n",
    "print(f\"Generated {N} random 3D points\")"
   ]
  },
  {
   "cell_type": "code",
   "execution_count": 8,
   "id": "65a9a173-c2a9-4e6c-94af-08b0f01fe389",
   "metadata": {},
   "outputs": [],
   "source": [
    "#Create temporary files for memory-mapped arrays"
   ]
  },
  {
   "cell_type": "code",
   "execution_count": 9,
   "id": "2a7458e0-9c09-4c32-b1a9-e16c93d173de",
   "metadata": {},
   "outputs": [],
   "source": [
    "cpu_memmap_file = \"cpu_dist_matrix.dat\"\n",
    "gpu_memmap_file = \"gpu_dist_matrix.dat\""
   ]
  },
  {
   "cell_type": "code",
   "execution_count": 10,
   "id": "201ba25a-e27c-4278-9bc9-279a38136ba8",
   "metadata": {},
   "outputs": [],
   "source": [
    "#Create memory-mapped arrays"
   ]
  },
  {
   "cell_type": "code",
   "execution_count": 11,
   "id": "40e9dd9f-a5c2-4b99-8324-d2c7c90cc109",
   "metadata": {},
   "outputs": [
    {
     "ename": "CUDARuntimeError",
     "evalue": "cudaErrorInsufficientDriver: CUDA driver version is insufficient for CUDA runtime version",
     "output_type": "error",
     "traceback": [
      "\u001b[1;31m---------------------------------------------------------------------------\u001b[0m",
      "\u001b[1;31mCUDARuntimeError\u001b[0m                          Traceback (most recent call last)",
      "Cell \u001b[1;32mIn[11], line 5\u001b[0m\n\u001b[0;32m      3\u001b[0m dist_gpu_memmap \u001b[38;5;241m=\u001b[39m np\u001b[38;5;241m.\u001b[39mmemmap(gpu_memmap_file, dtype\u001b[38;5;241m=\u001b[39m\u001b[38;5;124m\"\u001b[39m\u001b[38;5;124mfloat32\u001b[39m\u001b[38;5;124m\"\u001b[39m, mode\u001b[38;5;241m=\u001b[39m\u001b[38;5;124m\"\u001b[39m\u001b[38;5;124mw+\u001b[39m\u001b[38;5;124m\"\u001b[39m, shape\u001b[38;5;241m=\u001b[39m(N, N))\n\u001b[0;32m      4\u001b[0m \u001b[38;5;66;03m# Transfer points to GPU\u001b[39;00m\n\u001b[1;32m----> 5\u001b[0m points_gpu \u001b[38;5;241m=\u001b[39m cp\u001b[38;5;241m.\u001b[39masarray(points_cpu)\n",
      "File \u001b[1;32m~\\anaconda3\\Lib\\site-packages\\cupy\\_creation\\from_data.py:88\u001b[0m, in \u001b[0;36masarray\u001b[1;34m(a, dtype, order, blocking)\u001b[0m\n\u001b[0;32m     56\u001b[0m \u001b[38;5;28;01mdef\u001b[39;00m\u001b[38;5;250m \u001b[39m\u001b[38;5;21masarray\u001b[39m(a, dtype\u001b[38;5;241m=\u001b[39m\u001b[38;5;28;01mNone\u001b[39;00m, order\u001b[38;5;241m=\u001b[39m\u001b[38;5;28;01mNone\u001b[39;00m, \u001b[38;5;241m*\u001b[39m, blocking\u001b[38;5;241m=\u001b[39m\u001b[38;5;28;01mFalse\u001b[39;00m):\n\u001b[0;32m     57\u001b[0m \u001b[38;5;250m    \u001b[39m\u001b[38;5;124;03m\"\"\"Converts an object to array.\u001b[39;00m\n\u001b[0;32m     58\u001b[0m \n\u001b[0;32m     59\u001b[0m \u001b[38;5;124;03m    This is equivalent to ``array(a, dtype, copy=False, order=order)``.\u001b[39;00m\n\u001b[1;32m   (...)\u001b[0m\n\u001b[0;32m     86\u001b[0m \n\u001b[0;32m     87\u001b[0m \u001b[38;5;124;03m    \"\"\"\u001b[39;00m\n\u001b[1;32m---> 88\u001b[0m     \u001b[38;5;28;01mreturn\u001b[39;00m _core\u001b[38;5;241m.\u001b[39marray(a, dtype, \u001b[38;5;28;01mFalse\u001b[39;00m, order, blocking\u001b[38;5;241m=\u001b[39mblocking)\n",
      "File \u001b[1;32mcupy\\\\_core\\\\core.pyx:2502\u001b[0m, in \u001b[0;36mcupy._core.core.array\u001b[1;34m()\u001b[0m\n",
      "File \u001b[1;32mcupy\\\\_core\\\\core.pyx:2529\u001b[0m, in \u001b[0;36mcupy._core.core.array\u001b[1;34m()\u001b[0m\n",
      "File \u001b[1;32mcupy\\\\_core\\\\core.pyx:2714\u001b[0m, in \u001b[0;36mcupy._core.core._array_default\u001b[1;34m()\u001b[0m\n",
      "File \u001b[1;32mcupy\\\\_core\\\\core.pyx:2662\u001b[0m, in \u001b[0;36mcupy._core.core._try_skip_h2d_copy\u001b[1;34m()\u001b[0m\n",
      "File \u001b[1;32mcupy\\\\cuda\\\\device.pyx:40\u001b[0m, in \u001b[0;36mcupy.cuda.device.get_device_id\u001b[1;34m()\u001b[0m\n",
      "File \u001b[1;32mcupy_backends\\\\cuda\\\\api\\\\runtime.pyx:202\u001b[0m, in \u001b[0;36mcupy_backends.cuda.api.runtime.getDevice\u001b[1;34m()\u001b[0m\n",
      "File \u001b[1;32mcupy_backends\\\\cuda\\\\api\\\\runtime.pyx:146\u001b[0m, in \u001b[0;36mcupy_backends.cuda.api.runtime.check_status\u001b[1;34m()\u001b[0m\n",
      "\u001b[1;31mCUDARuntimeError\u001b[0m: cudaErrorInsufficientDriver: CUDA driver version is insufficient for CUDA runtime version"
     ]
    }
   ],
   "source": [
    "dist_cpu_memmap = np.memmap(cpu_memmap_file, dtype=\"float32\", mode=\"w+\", shape=(N, N))\n",
    "if cuda_available:\n",
    "    dist_gpu_memmap = np.memmap(gpu_memmap_file, dtype=\"float32\", mode=\"w+\", shape=(N, N))\n",
    "    # Transfer points to GPU\n",
    "    points_gpu = cp.asarray(points_cpu)"
   ]
  },
  {
   "cell_type": "code",
   "execution_count": 12,
   "id": "a8dc2803-e5cc-400e-9908-64a53b08ec84",
   "metadata": {},
   "outputs": [],
   "source": [
    "#CPU batch-wise computation"
   ]
  },
  {
   "cell_type": "code",
   "execution_count": 13,
   "id": "c6426036-b5ac-48ab-83b3-027a00fe8f2d",
   "metadata": {},
   "outputs": [
    {
     "name": "stdout",
     "output_type": "stream",
     "text": [
      "\n",
      "Starting CPU batch-wise computation...\n",
      "CPU batch-wise computation finished in 0.24 seconds\n"
     ]
    }
   ],
   "source": [
    "print(\"\\nStarting CPU batch-wise computation...\")\n",
    "start_cpu = time.time()\n",
    "\n",
    "for i in range(0, N, B):\n",
    "    i_end = min(i + B, N)\n",
    "    Xi = points_cpu[i:i_end]\n",
    "    Xi_norm = np.sum(Xi**2, axis=1)[:, np.newaxis]\n",
    "\n",
    "    for j in range(0, N, B):\n",
    "        j_end = min(j + B, N)\n",
    "        Xj = points_cpu[j:j_end]\n",
    "        Xj_norm = np.sum(Xj**2, axis=1)[np.newaxis, :]\n",
    "\n",
    "        # Compute block distance\n",
    "        dist_block = np.sqrt(np.maximum(\n",
    "            Xi_norm + Xj_norm - 2 * Xi @ Xj.T,\n",
    "            0.0  # Ensure no negative values due to floating point errors\n",
    "        ))\n",
    "\n",
    "        # Store in memmap\n",
    "        dist_cpu_memmap[i:i_end, j:j_end] = dist_block\n",
    "\n",
    "end_cpu = time.time()\n",
    "cpu_time = end_cpu - start_cpu\n",
    "print(f\"CPU batch-wise computation finished in {cpu_time:.2f} seconds\")"
   ]
  },
  {
   "cell_type": "code",
   "execution_count": 14,
   "id": "56fbeb94-91b6-489b-a5c8-cdfeee7ed4cf",
   "metadata": {},
   "outputs": [],
   "source": [
    "#GPU batch-wise computation (if available)"
   ]
  },
  {
   "cell_type": "code",
   "execution_count": 15,
   "id": "2f6dac80-f3b0-42d0-b680-f2953d70a6c7",
   "metadata": {},
   "outputs": [
    {
     "name": "stdout",
     "output_type": "stream",
     "text": [
      "\n",
      "Starting GPU batch-wise computation...\n"
     ]
    },
    {
     "ename": "NameError",
     "evalue": "name 'points_gpu' is not defined",
     "output_type": "error",
     "traceback": [
      "\u001b[1;31m---------------------------------------------------------------------------\u001b[0m",
      "\u001b[1;31mNameError\u001b[0m                                 Traceback (most recent call last)",
      "Cell \u001b[1;32mIn[15], line 7\u001b[0m\n\u001b[0;32m      5\u001b[0m \u001b[38;5;28;01mfor\u001b[39;00m i \u001b[38;5;129;01min\u001b[39;00m \u001b[38;5;28mrange\u001b[39m(\u001b[38;5;241m0\u001b[39m, N, B):\n\u001b[0;32m      6\u001b[0m     i_end \u001b[38;5;241m=\u001b[39m \u001b[38;5;28mmin\u001b[39m(i \u001b[38;5;241m+\u001b[39m B, N)\n\u001b[1;32m----> 7\u001b[0m     Xi \u001b[38;5;241m=\u001b[39m points_gpu[i:i_end]\n\u001b[0;32m      8\u001b[0m     Xi_norm \u001b[38;5;241m=\u001b[39m cp\u001b[38;5;241m.\u001b[39msum(Xi\u001b[38;5;241m*\u001b[39m\u001b[38;5;241m*\u001b[39m\u001b[38;5;241m2\u001b[39m, axis\u001b[38;5;241m=\u001b[39m\u001b[38;5;241m1\u001b[39m)[:, cp\u001b[38;5;241m.\u001b[39mnewaxis]\n\u001b[0;32m     10\u001b[0m     \u001b[38;5;28;01mfor\u001b[39;00m j \u001b[38;5;129;01min\u001b[39;00m \u001b[38;5;28mrange\u001b[39m(\u001b[38;5;241m0\u001b[39m, N, B):\n",
      "\u001b[1;31mNameError\u001b[0m: name 'points_gpu' is not defined"
     ]
    }
   ],
   "source": [
    "if cuda_available:\n",
    "    print(\"\\nStarting GPU batch-wise computation...\")\n",
    "    start_gpu = time.time()\n",
    "\n",
    "    for i in range(0, N, B):\n",
    "        i_end = min(i + B, N)\n",
    "        Xi = points_gpu[i:i_end]\n",
    "        Xi_norm = cp.sum(Xi**2, axis=1)[:, cp.newaxis]\n",
    "\n",
    "        for j in range(0, N, B):\n",
    "            j_end = min(j + B, N)\n",
    "            Xj = points_gpu[j:j_end]\n",
    "            Xj_norm = cp.sum(Xj**2, axis=1)[cp.newaxis, :]\n",
    "\n",
    "            # Compute block distance\n",
    "            dist_block = cp.sqrt(cp.maximum(\n",
    "                Xi_norm + Xj_norm - 2 * Xi @ Xj.T,\n",
    "                0.0  # Ensure no negative values\n",
    "            ))\n",
    "\n",
    "            # Move block to CPU & store in memmap\n",
    "            dist_gpu_memmap[i:i_end, j:j_end] = cp.asnumpy(dist_block)\n",
    "\n",
    "    end_gpu = time.time()\n",
    "    gpu_time = end_gpu - start_gpu\n",
    "    print(f\"GPU batch-wise computation finished in {gpu_time:.2f} seconds\")\n",
    "\n",
    "    # Performance comparison\n",
    "    if gpu_time > 0:\n",
    "        speedup = cpu_time / gpu_time\n",
    "        print(f\"\\n Speedup = {speedup:.2f}x (GPU vs CPU)\")"
   ]
  },
  {
   "cell_type": "code",
   "execution_count": 16,
   "id": "e0fc502d-a022-4376-a083-dfc686fe7273",
   "metadata": {},
   "outputs": [],
   "source": [
    "#Verification (compare a small sample)"
   ]
  },
  {
   "cell_type": "code",
   "execution_count": 17,
   "id": "8b8305f5-bebf-4ad8-8133-61c52b5bcbc7",
   "metadata": {},
   "outputs": [
    {
     "name": "stdout",
     "output_type": "stream",
     "text": [
      "\n",
      "Sample CPU distances (5x5):\n",
      " [[  0.       100.675     35.27332  101.636086 102.83767 ]\n",
      " [100.675      0.        99.7335    83.232925  24.185583]\n",
      " [ 35.27332   99.7335     0.       112.850365 109.67857 ]\n",
      " [101.636086  83.232925 112.850365   0.        82.05581 ]\n",
      " [102.83767   24.185583 109.67857   82.05581    0.      ]]\n",
      "\n",
      "Sample GPU distances (5x5):\n",
      " [[0. 0. 0. 0. 0.]\n",
      " [0. 0. 0. 0. 0.]\n",
      " [0. 0. 0. 0. 0.]\n",
      " [0. 0. 0. 0. 0.]\n",
      " [0. 0. 0. 0. 0.]]\n",
      "\n",
      "Verification: CPU and GPU results differ! ✗\n"
     ]
    }
   ],
   "source": [
    "print(\"\\nSample CPU distances (5x5):\\n\", dist_cpu_memmap[:5, :5])\n",
    "if cuda_available:\n",
    "    print(\"\\nSample GPU distances (5x5):\\n\", dist_gpu_memmap[:5, :5])\n",
    "\n",
    "    # Check if results are close\n",
    "    if np.allclose(dist_cpu_memmap[:5, :5], dist_gpu_memmap[:5, :5], rtol=1e-5, atol=1e-5):\n",
    "        print(\"\\nVerification: CPU and GPU results match! ✓\")\n",
    "    else:\n",
    "        print(\"\\nVerification: CPU and GPU results differ! ✗\")"
   ]
  },
  {
   "cell_type": "code",
   "execution_count": 18,
   "id": "286314b1-7cd0-4868-8353-852830c3f9ab",
   "metadata": {},
   "outputs": [],
   "source": [
    "# Clean up temporary files"
   ]
  },
  {
   "cell_type": "code",
   "execution_count": 19,
   "id": "78356e84-9538-4ba8-81b5-857df4f9162e",
   "metadata": {},
   "outputs": [
    {
     "name": "stdout",
     "output_type": "stream",
     "text": [
      "\n",
      "Warning: Could not remove temporary files.\n"
     ]
    }
   ],
   "source": [
    "try:\n",
    "    os.remove(cpu_memmap_file)\n",
    "    if cuda_available:\n",
    "        os.remove(gpu_memmap_file)\n",
    "    print(\"\\nTemporary files cleaned up.\")\n",
    "except:\n",
    "    print(\"\\nWarning: Could not remove temporary files.\")"
   ]
  },
  {
   "cell_type": "code",
   "execution_count": null,
   "id": "9ab1116a-7e71-4d13-a0bd-fc44b9b1b588",
   "metadata": {},
   "outputs": [],
   "source": []
  }
 ],
 "metadata": {
  "kernelspec": {
   "display_name": "Python [conda env:base] *",
   "language": "python",
   "name": "conda-base-py"
  },
  "language_info": {
   "codemirror_mode": {
    "name": "ipython",
    "version": 3
   },
   "file_extension": ".py",
   "mimetype": "text/x-python",
   "name": "python",
   "nbconvert_exporter": "python",
   "pygments_lexer": "ipython3",
   "version": "3.13.5"
  }
 },
 "nbformat": 4,
 "nbformat_minor": 5
}
