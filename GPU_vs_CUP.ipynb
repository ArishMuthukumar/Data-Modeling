{
  "nbformat": 4,
  "nbformat_minor": 0,
  "metadata": {
    "colab": {
      "provenance": [],
      "gpuType": "T4"
    },
    "kernelspec": {
      "name": "python3",
      "display_name": "Python 3"
    },
    "language_info": {
      "name": "python"
    },
    "accelerator": "GPU"
  },
  "cells": [
    {
      "cell_type": "code",
      "source": [
        "# Import Libraries\n",
        "import numpy as np\n",
        "import time"
      ],
      "metadata": {
        "id": "-hfAgkkS-TBl"
      },
      "execution_count": 9,
      "outputs": []
    },
    {
      "cell_type": "code",
      "source": [
        "# Check if CUDA is available and handle gracefully\n",
        "try:\n",
        "    import cupy as cp\n",
        "    cuda_available = True\n",
        "    print(\"CUDA is available. Using GPU for computation.\")\n",
        "except (ImportError, Exception) as e:\n",
        "    cuda_available = False\n",
        "    print(f\"CUDA is not available: {str(e)}\")\n",
        "    print(\"Falling back to CPU-only computation.\")"
      ],
      "metadata": {
        "colab": {
          "base_uri": "https://localhost:8080/"
        },
        "id": "vKNPL-Xj-Uav",
        "outputId": "81fa561c-d09f-4df1-c88c-b5ecf50eec0b"
      },
      "execution_count": 10,
      "outputs": [
        {
          "output_type": "stream",
          "name": "stdout",
          "text": [
            "CUDA is available. Using GPU for computation.\n"
          ]
        }
      ]
    },
    {
      "cell_type": "code",
      "source": [
        "#  Generate Random 3D Points\n",
        "N = 10000   # Number of points\n",
        "np.random.seed(42)"
      ],
      "metadata": {
        "id": "sjMh61IS-Xj1"
      },
      "execution_count": 11,
      "outputs": []
    },
    {
      "cell_type": "code",
      "source": [
        "# Generate points on CPU\n",
        "points_cpu = np.random.uniform(0, 100, (N, 3))\n",
        "print(f\"Generated {N} random 3D points.\")"
      ],
      "metadata": {
        "colab": {
          "base_uri": "https://localhost:8080/"
        },
        "id": "mRafiLOQ-a_v",
        "outputId": "f42b56ce-d591-4903-e08e-bcc92dfe8bab"
      },
      "execution_count": 12,
      "outputs": [
        {
          "output_type": "stream",
          "name": "stdout",
          "text": [
            "Generated 10000 random 3D points.\n"
          ]
        }
      ]
    },
    {
      "cell_type": "code",
      "source": [
        "# CPU Distance Matrix for comparison\n",
        "print(\"\\nCalculating distance matrix on CPU...\")\n",
        "start_cpu = time.time()\n",
        "\n",
        "X_cpu = points_cpu\n",
        "X_squared_sum_cpu = np.sum(X_cpu**2, axis=1)\n",
        "dot_product_cpu = X_cpu @ X_cpu.T\n",
        "dist_matrix_cpu = np.sqrt(np.maximum(\n",
        "    X_squared_sum_cpu[:, np.newaxis] + X_squared_sum_cpu[np.newaxis, :] - 2 * dot_product_cpu,\n",
        "    0.0  # Ensure no negative values\n",
        "))\n",
        "\n",
        "end_cpu = time.time()\n",
        "cpu_time = end_cpu - start_cpu\n",
        "print(f\"CPU Execution Time: {cpu_time:.2f} seconds\")"
      ],
      "metadata": {
        "colab": {
          "base_uri": "https://localhost:8080/"
        },
        "id": "kkKlik29-d3e",
        "outputId": "91d53d15-7fd6-4105-b58f-ca103b548e0e"
      },
      "execution_count": 13,
      "outputs": [
        {
          "output_type": "stream",
          "name": "stdout",
          "text": [
            "\n",
            "Calculating distance matrix on CPU...\n",
            "CPU Execution Time: 1.49 seconds\n"
          ]
        }
      ]
    },
    {
      "cell_type": "code",
      "source": [
        "# GPU Distance Matrix calculation\n",
        "if cuda_available:\n",
        "    try:\n",
        "        print(\"\\nCalculating distance matrix on GPU...\")\n",
        "        # Transfer data to GPU\n",
        "        points_gpu = cp.asarray(points_cpu)\n",
        "\n",
        "        start_gpu = time.time()\n",
        "\n",
        "        # Perform the same calculation on GPU\n",
        "        X_gpu = points_gpu\n",
        "        X_squared_sum_gpu = cp.sum(X_gpu**2, axis=1)\n",
        "        dot_product_gpu = X_gpu @ X_gpu.T\n",
        "        dist_matrix_gpu = cp.sqrt(cp.maximum(\n",
        "            X_squared_sum_gpu[:, cp.newaxis] + X_squared_sum_gpu[cp.newaxis, :] - 2 * dot_product_gpu,\n",
        "            0.0  # Ensure no negative values\n",
        "        ))\n",
        "\n",
        "        # Ensure all GPU operations are complete before stopping the timer\n",
        "        cp.cuda.Stream.null.synchronize()\n",
        "\n",
        "        end_gpu = time.time()\n",
        "        gpu_time = end_gpu - start_gpu\n",
        "\n",
        "        # Transfer a small sample back to CPU for verification\n",
        "        dist_matrix_gpu_sample = cp.asnumpy(dist_matrix_gpu[:5, :5])\n",
        "\n",
        "        print(f\"GPU Execution Time: {gpu_time:.2f} seconds\")\n",
        "\n",
        "        # Performance comparison\n",
        "        if gpu_time > 0:\n",
        "            speedup = cpu_time / gpu_time\n",
        "            print(f\"\\n Speedup = {speedup:.2f}x (GPU vs CPU)\")\n",
        "\n",
        "        # Verification\n",
        "        print(\"\\nSample CPU distances (5x5):\\n\", dist_matrix_cpu[:5, :5])\n",
        "        print(\"\\nSample GPU distances (5x5):\\n\", dist_matrix_gpu_sample)\n",
        "\n",
        "        # Check if results are close\n",
        "        if np.allclose(dist_matrix_cpu[:5, :5], dist_matrix_gpu_sample, rtol=1e-5, atol=1e-5):\n",
        "            print(\"\\nVerification: CPU and GPU results match! ✓\")\n",
        "        else:\n",
        "            print(\"\\nVerification: CPU and GPU results differ! ✗\")\n",
        "\n",
        "    except Exception as e:\n",
        "        print(f\"Error during GPU computation: {str(e)}\")\n",
        "        print(\"GPU computation failed. Using CPU results only.\")\n",
        "else:\n",
        "    print(\"\\nSample CPU distances (5x5):\\n\", dist_matrix_cpu[:5, :5])\n",
        "    print(\"\\nGPU computation was skipped due to CUDA unavailability.\")"
      ],
      "metadata": {
        "colab": {
          "base_uri": "https://localhost:8080/"
        },
        "id": "YDNrdZd1-wy7",
        "outputId": "ed5e48a2-4d83-462a-aacc-7f6c6a27f760"
      },
      "execution_count": 14,
      "outputs": [
        {
          "output_type": "stream",
          "name": "stdout",
          "text": [
            "\n",
            "Calculating distance matrix on GPU...\n",
            "GPU Execution Time: 0.07 seconds\n",
            "\n",
            " Speedup = 22.28x (GPU vs CPU)\n",
            "\n",
            "Sample CPU distances (5x5):\n",
            " [[  0.         100.67500071  35.27332073 101.6360836  102.83766576]\n",
            " [100.67500071   0.          99.73350122  83.23292733  24.18558232]\n",
            " [ 35.27332073  99.73350122   0.         112.85036689 109.67857198]\n",
            " [101.6360836   83.23292733 112.85036689   0.          82.05580609]\n",
            " [102.83766576  24.18558232 109.67857198  82.05580609   0.        ]]\n",
            "\n",
            "Sample GPU distances (5x5):\n",
            " [[0.00000000e+00 1.00675001e+02 3.52733207e+01 1.01636084e+02\n",
            "  1.02837666e+02]\n",
            " [1.00675001e+02 0.00000000e+00 9.97335012e+01 8.32329273e+01\n",
            "  2.41855823e+01]\n",
            " [3.52733207e+01 9.97335012e+01 0.00000000e+00 1.12850367e+02\n",
            "  1.09678572e+02]\n",
            " [1.01636084e+02 8.32329273e+01 1.12850367e+02 0.00000000e+00\n",
            "  8.20558061e+01]\n",
            " [1.02837666e+02 2.41855823e+01 1.09678572e+02 8.20558061e+01\n",
            "  1.34869915e-06]]\n",
            "\n",
            "Verification: CPU and GPU results match! ✓\n"
          ]
        }
      ]
    }
  ]
}